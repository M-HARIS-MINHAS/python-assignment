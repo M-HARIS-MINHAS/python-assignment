{
 "cells": [
  {
   "cell_type": "markdown",
   "id": "0c4d5ba2-8b23-471b-aa1d-c7ece073537f",
   "metadata": {},
   "source": [
    "<h1>list Assignment</h1>"
   ]
  },
  {
   "cell_type": "markdown",
   "id": "446bb904-66a4-42e5-b8b0-d6e047826aeb",
   "metadata": {},
   "source": [
    "1. Write a program that accepts a list from user and print the alternate element of list. "
   ]
  },
  {
   "cell_type": "code",
   "execution_count": 3,
   "id": "94f1fd50-0a23-4a7c-8839-a641b38bebfa",
   "metadata": {},
   "outputs": [
    {
     "name": "stdin",
     "output_type": "stream",
     "text": [
      "Enter a list of elements separated by commas:  apple,bannana,cherry,date\n"
     ]
    },
    {
     "name": "stdout",
     "output_type": "stream",
     "text": [
      "Alternate elements of the list are:\n",
      "['apple', 'cherry']\n"
     ]
    }
   ],
   "source": [
    "\n",
    "user_input = input(\"Enter a list of elements separated by commas: \")\n",
    "\n",
    "\n",
    "user_list = [element.strip() for element in user_input.split(',')]\n",
    "\n",
    "print(\"Alternate elements of the list are:\")\n",
    "print(user_list[::2])\n"
   ]
  },
  {
   "cell_type": "markdown",
   "id": "ddae9753-7629-451e-94c2-93094790bf49",
   "metadata": {},
   "source": [
    "2. Write a program that accepts a list from user. Your program should reverse the content of list and \n",
    "display it. Do not use reverse() method. "
   ]
  },
  {
   "cell_type": "code",
   "execution_count": 4,
   "id": "662b7cea-c2dd-476c-9bb9-c7426ef003e0",
   "metadata": {},
   "outputs": [
    {
     "name": "stdin",
     "output_type": "stream",
     "text": [
      "Enter a list of elements separated by commas:  apple,mango,bannana\n"
     ]
    },
    {
     "name": "stdout",
     "output_type": "stream",
     "text": [
      "Reversed list is:\n",
      "['bannana', 'mango', 'apple']\n"
     ]
    }
   ],
   "source": [
    "def reverse_list(lst):\n",
    "    reversed_lst = []\n",
    "    for item in lst:\n",
    "        reversed_lst.insert(0, item)  \n",
    "    return reversed_lst\n",
    "\n",
    "\n",
    "user_input = input(\"Enter a list of elements separated by commas: \")\n",
    "\n",
    "\n",
    "user_list = [element.strip() for element in user_input.split(',')]\n",
    "\n",
    "\n",
    "reversed_list = reverse_list(user_list)\n",
    "\n",
    "print(\"Reversed list is:\")\n",
    "print(reversed_list)\n"
   ]
  },
  {
   "cell_type": "markdown",
   "id": "368745d2-d008-441c-a004-0b83125a83a5",
   "metadata": {},
   "source": [
    "3. Find and display the largest number of a list without using built-in function max(). Your program \r\n",
    "should ask the user to input values in list from keyboard. "
   ]
  },
  {
   "cell_type": "code",
   "execution_count": 5,
   "id": "1e6a726d-4b1f-405a-bd8e-1ca7dff81ba6",
   "metadata": {},
   "outputs": [
    {
     "name": "stdin",
     "output_type": "stream",
     "text": [
      "Enter a list of numbers separated by commas:  27,78,96,65\n"
     ]
    },
    {
     "name": "stdout",
     "output_type": "stream",
     "text": [
      "The largest number in the list is: 96\n"
     ]
    }
   ],
   "source": [
    "def find_largest_number(lst):\n",
    "   \n",
    "    largest = lst[0]\n",
    "   \n",
    "    for number in lst:\n",
    "        if number > largest:\n",
    "            largest = number\n",
    "    return largest\n",
    "\n",
    "user_input = input(\"Enter a list of numbers separated by commas: \")\n",
    "\n",
    "\n",
    "user_list = [int(element.strip()) for element in user_input.split(',')]\n",
    "\n",
    "\n",
    "largest_number = find_largest_number(user_list)\n",
    "\n",
    "\n",
    "print(\"The largest number in the list is:\", largest_number)\n"
   ]
  },
  {
   "cell_type": "markdown",
   "id": "81849e78-d80c-4ec5-82b6-ae37de2964ed",
   "metadata": {},
   "source": [
    "4. Write a program that rotates the element of a list so that the element at the first index moves to the \r\n",
    "second index, the element in the second index moves to the third index, etc., and the element in the last \r\n",
    "index moves to the first index. "
   ]
  },
  {
   "cell_type": "code",
   "execution_count": 6,
   "id": "9460aa52-89bc-45ae-b7d0-88b34a0996e5",
   "metadata": {},
   "outputs": [
    {
     "name": "stdin",
     "output_type": "stream",
     "text": [
      "Enter a list of elements separated by commas:  date,cherry,apple\n"
     ]
    },
    {
     "name": "stdout",
     "output_type": "stream",
     "text": [
      "Rotated list is:\n",
      "['apple', 'date', 'cherry']\n"
     ]
    }
   ],
   "source": [
    "\n",
    "def rotate_list(lst):\n",
    "    if len(lst) > 1:\n",
    "       \n",
    "        last_element = lst.pop()  \n",
    "        lst.insert(0, last_element)  \n",
    "    return lst\n",
    "\n",
    "user_input = input(\"Enter a list of elements separated by commas: \")\n",
    "\n",
    "user_list = [element.strip() for element in user_input.split(',')]\n",
    "\n",
    "\n",
    "rotated_list = rotate_list(user_list)\n",
    "\n",
    "print(\"Rotated list is:\")\n",
    "print(rotated_list)\n"
   ]
  },
  {
   "cell_type": "markdown",
   "id": "6234a692-409e-46b9-bba2-33413bc5e470",
   "metadata": {},
   "source": [
    "5. Write a program that input a string and ask user to delete a given word from a string.  "
   ]
  },
  {
   "cell_type": "code",
   "execution_count": 7,
   "id": "290e4611-2179-4ef0-94b2-7fbc190139f1",
   "metadata": {},
   "outputs": [
    {
     "name": "stdin",
     "output_type": "stream",
     "text": [
      "Enter a string:  My name is haris minhas\n",
      "Enter the word to delete:  minhas\n"
     ]
    },
    {
     "name": "stdout",
     "output_type": "stream",
     "text": [
      "String after deleting the word: My name is haris\n"
     ]
    }
   ],
   "source": [
    "def delete_word(input_string, word_to_delete):\n",
    "    # Convert the string into a list of words\n",
    "    words = input_string.split()\n",
    "   \n",
    "    words = list(filter(lambda word: word != word_to_delete, words))\n",
    "    \n",
    "  \n",
    "    return ' '.join(words)\n",
    "\n",
    "input_string = input(\"Enter a string: \")\n",
    "word_to_delete = input(\"Enter the word to delete: \")\n",
    "\n",
    "\n",
    "result_string = delete_word(input_string, word_to_delete)\n",
    "\n",
    "# Display the resulting string\n",
    "print(\"String after deleting the word:\", result_string)\n"
   ]
  },
  {
   "cell_type": "markdown",
   "id": "f1a56347-36ab-4e87-9062-512b40ce8454",
   "metadata": {},
   "source": [
    "6. Write a program that reads a string from the user containing a date in the form mm/dd/yyyy. It \n",
    "should print the date in the form March 12, 2021. "
   ]
  },
  {
   "cell_type": "code",
   "execution_count": 10,
   "id": "7cb0e446-4e66-4f14-9964-d7bac4cd3c6c",
   "metadata": {},
   "outputs": [
    {
     "name": "stdin",
     "output_type": "stream",
     "text": [
      "Enter a date in the form mm/dd/yyyy:  01/25/2008\n"
     ]
    },
    {
     "name": "stdout",
     "output_type": "stream",
     "text": [
      "Formatted date is: January 25, 2008\n"
     ]
    }
   ],
   "source": [
    "month_names = [\n",
    "    'January', 'February', 'March', 'April', 'May', 'June',\n",
    "    'July', 'August', 'September', 'October', 'November', 'December'\n",
    "]\n",
    "\n",
    "\n",
    "def format_date(date_str):\n",
    "   \n",
    "    month, day, year = date_str.split('/')\n",
    "    \n",
    "    month_name = month_names[int(month) - 1]\n",
    "\n",
    "    return f\"{month_name} {int(day)}, {year}\"\n",
    "\n",
    "date_input = input(\"Enter a date in the form mm/dd/yyyy: \")\n",
    "\n",
    "formatted_date = format_date(date_input)\n",
    "\n",
    "print(\"Formatted date is:\", formatted_date)\n"
   ]
  },
  {
   "cell_type": "markdown",
   "id": "f695e155-2d6d-4f43-a493-1a6a8d857122",
   "metadata": {},
   "source": [
    "7. Write a program with a function that accepts a string from keyboard and create a new string after \r\n",
    "converting character of each word capitalized. For instance, if the sentence is \"stop and smell the roses.\" \r\n",
    "the output should be \"Stop And Smell The Rose\" "
   ]
  },
  {
   "cell_type": "code",
   "execution_count": 12,
   "id": "3e916097-131e-4ca5-9297-34fe951462a4",
   "metadata": {},
   "outputs": [
    {
     "name": "stdin",
     "output_type": "stream",
     "text": [
      "Enter a sentence:  stop and smell the roses.\n"
     ]
    },
    {
     "name": "stdout",
     "output_type": "stream",
     "text": [
      "Capitalized sentence is: Stop And Smell The Roses.\n"
     ]
    }
   ],
   "source": [
    "def capitalize_words(sentence): \n",
    "    words = sentence.split()\n",
    "    \n",
    "    capitalized_words = []\n",
    "    for word in words:\n",
    "        if word:  \n",
    "            capitalized_words.append(word[0].upper() + word[1:].lower())\n",
    "        else:\n",
    "            capitalized_words.append(word)\n",
    "    \n",
    "    return ' '.join(capitalized_words)\n",
    "\n",
    "user_sentence = input(\"Enter a sentence: \")\n",
    "\n",
    "new_sentence = capitalize_words(user_sentence)\n",
    "\n",
    "print(\"Capitalized sentence is:\", new_sentence)"
   ]
  },
  {
   "cell_type": "markdown",
   "id": "8fca50f4-a59e-4470-b065-1f38a2cc9c22",
   "metadata": {},
   "source": [
    " 8. Find the sum of each row of matrix of size m x n. For example for the following matrix output will be<br> \n",
    "like this : <br>\n",
    "Sum of row 1 = 32<br> \n",
    "Sum of row 2 = 31 <br>\n",
    "Sum of row 3 = 63 <br>"
   ]
  },
  {
   "cell_type": "code",
   "execution_count": 13,
   "id": "fd18d910-c8f0-496d-b97c-0a11ce70f030",
   "metadata": {},
   "outputs": [
    {
     "name": "stdout",
     "output_type": "stream",
     "text": [
      "Sum of row 1 = 32\n",
      "Sum of row 2 = 31\n",
      "Sum of row 3 = 63\n"
     ]
    }
   ],
   "source": [
    "matrix = [\n",
    "    [2, 11, 7, 12],\n",
    "    [5, 2, 9, 15],\n",
    "    [8, 3, 10, 42]\n",
    "]\n",
    "row_sums = [sum(row) for row in matrix]\n",
    "\n",
    "for i, row_sum in enumerate(row_sums, 1):\n",
    "    print(f\"Sum of row {i} = {row_sum}\")\n"
   ]
  },
  {
   "cell_type": "markdown",
   "id": "ee50275a-bf86-46ca-992a-bbbd6db13779",
   "metadata": {},
   "source": [
    "9. Write a program to add two matrices of size n x m. "
   ]
  },
  {
   "cell_type": "code",
   "execution_count": 15,
   "id": "486e4c34-5f3a-444f-8bbf-7eac562d5308",
   "metadata": {},
   "outputs": [
    {
     "name": "stdout",
     "output_type": "stream",
     "text": [
      "[10, 10, 10]\n",
      "[10, 10, 10]\n",
      "[10, 10, 10]\n"
     ]
    }
   ],
   "source": [
    "m1 = [\n",
    "    [1, 2, 3],\n",
    "    [4, 5, 6],\n",
    "    [7, 8, 9]\n",
    "]\n",
    "\n",
    "m2 = [\n",
    "    [9, 8, 7],\n",
    "    [6, 5, 4],\n",
    "    [3, 2, 1]\n",
    "]\n",
    "result = [\n",
    "    [m1[i][j] + m2[i][j] for j in range(len(m1[0]))]\n",
    "    for i in range(len(m1))\n",
    "]\n",
    "for row in result:\n",
    "    print(row)\n"
   ]
  },
  {
   "cell_type": "markdown",
   "id": "10e43e1c-06c0-415d-a871-e50cdfc6e9ee",
   "metadata": {},
   "source": [
    "10. Write a program to multiply two matrices "
   ]
  },
  {
   "cell_type": "code",
   "execution_count": null,
   "id": "85e0933f-dce4-4806-a944-8eb79d4a5343",
   "metadata": {},
   "outputs": [
    {
     "name": "stdin",
     "output_type": "stream",
     "text": [
      "Enter number of rows for matrix A:  2\n",
      "Enter number of columns for matrix A:  3\n",
      "Enter number of rows for matrix B:  3\n",
      "Enter number of columns for matrix B:  2\n"
     ]
    },
    {
     "name": "stdout",
     "output_type": "stream",
     "text": [
      "Enter matrix A:\n"
     ]
    },
    {
     "name": "stdin",
     "output_type": "stream",
     "text": [
      "Enter row 1 (space-separated values):  1 2 3\n",
      "Enter row 2 (space-separated values):  4 5 6\n"
     ]
    },
    {
     "name": "stdout",
     "output_type": "stream",
     "text": [
      "Enter matrix B:\n"
     ]
    },
    {
     "name": "stdin",
     "output_type": "stream",
     "text": [
      "Enter row 1 (space-separated values):  7 8\n"
     ]
    }
   ],
   "source": [
    "# Function to multiply two matrices\n",
    "def multiply_matrices(A, B):\n",
    "    # Get dimensions of matrices\n",
    "    rows_A = len(A)\n",
    "    cols_A = len(A[0])\n",
    "    rows_B = len(B)\n",
    "    cols_B = len(B[0])\n",
    "\n",
    "    # Check if multiplication is possible\n",
    "    if cols_A != rows_B:\n",
    "        raise ValueError(\"Number of columns in A must be equal to number of rows in B\")\n",
    "\n",
    "    # Initialize result matrix with zeros\n",
    "    result = [[0] * cols_B for _ in range(rows_A)]\n",
    "\n",
    "    # Perform matrix multiplication\n",
    "    for i in range(rows_A):\n",
    "        for j in range(cols_B):\n",
    "            # Calculate the dot product of the ith row of A and the jth column of B\n",
    "            sum_product = 0\n",
    "            for k in range(cols_A):  # or k in range(rows_B), since cols_A == rows_B\n",
    "                sum_product += A[i][k] * B[k][j]\n",
    "            result[i][j] = sum_product\n",
    "\n",
    "    return result\n",
    "\n",
    "# Function to take matrix input from the user\n",
    "def get_matrix_input(rows, cols):\n",
    "    matrix = []\n",
    "    for i in range(rows):\n",
    "        row = list(map(int, input(f\"Enter row {i + 1} (space-separated values): \").split()))\n",
    "        if len(row) != cols:\n",
    "            raise ValueError(f\"Row must have exactly {cols} columns\")\n",
    "        matrix.append(row)\n",
    "    return matrix\n",
    "\n",
    "# Input dimensions for the matrices\n",
    "rows_A = int(input(\"Enter number of rows for matrix A: \"))\n",
    "cols_A = int(input(\"Enter number of columns for matrix A: \"))\n",
    "rows_B = int(input(\"Enter number of rows for matrix B: \"))\n",
    "cols_B = int(input(\"Enter number of columns for matrix B: \"))\n",
    "\n",
    "# Check if multiplication is possible\n",
    "if cols_A != rows_B:\n",
    "    raise ValueError(\"Number of columns in A must be equal to number of rows in B\")\n",
    "\n",
    "# Input matrices\n",
    "print(\"Enter matrix A:\")\n",
    "matrix_A = get_matrix_input(rows_A, cols_A)\n",
    "print(\"Enter matrix B:\")\n",
    "matrix_B = get_matrix_input(rows_B, cols_B)\n",
    "\n",
    "# Multiply matrices\n",
    "result_matrix = multiply_matrices(matrix_A, matrix_B)\n",
    "\n",
    "# Display the result\n",
    "print(\"Result of multiplication:\")\n",
    "for row in result_matrix:\n",
    "    print(' '.join(map(str, row)))\n",
    "\n",
    "\n"
   ]
  },
  {
   "cell_type": "code",
   "execution_count": null,
   "id": "4eba7a9b-e84c-4c18-9b62-86897ea8412f",
   "metadata": {},
   "outputs": [],
   "source": []
  }
 ],
 "metadata": {
  "kernelspec": {
   "display_name": "Python 3 (ipykernel)",
   "language": "python",
   "name": "python3"
  },
  "language_info": {
   "codemirror_mode": {
    "name": "ipython",
    "version": 3
   },
   "file_extension": ".py",
   "mimetype": "text/x-python",
   "name": "python",
   "nbconvert_exporter": "python",
   "pygments_lexer": "ipython3",
   "version": "3.11.7"
  }
 },
 "nbformat": 4,
 "nbformat_minor": 5
}
