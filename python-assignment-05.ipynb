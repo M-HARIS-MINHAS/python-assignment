{
 "cells": [
  {
   "cell_type": "markdown",
   "id": "84788da8-aca9-4f68-aa09-3aca908da553",
   "metadata": {},
   "source": [
    "1. Write a Python program to print the numbers from 1 to 10 using a for loop. "
   ]
  },
  {
   "cell_type": "code",
   "execution_count": 1,
   "id": "253bc738-e229-4998-8ec7-e15d389ea624",
   "metadata": {},
   "outputs": [
    {
     "name": "stdout",
     "output_type": "stream",
     "text": [
      "1\n",
      "2\n",
      "3\n",
      "4\n",
      "5\n",
      "6\n",
      "7\n",
      "8\n",
      "9\n",
      "10\n"
     ]
    }
   ],
   "source": [
    "for number in range(1, 11):\n",
    "    print(number)\n"
   ]
  },
  {
   "cell_type": "markdown",
   "id": "218a0af5-0cfc-4386-83e5-cde98eb52669",
   "metadata": {},
   "source": [
    "2. Write a Python program to print the numbers from 20 to 1 using a while loop."
   ]
  },
  {
   "cell_type": "code",
   "execution_count": 2,
   "id": "58e8a9d1-68cf-40d4-b319-f7f726760c94",
   "metadata": {},
   "outputs": [
    {
     "name": "stdout",
     "output_type": "stream",
     "text": [
      "20\n",
      "19\n",
      "18\n",
      "17\n",
      "16\n",
      "15\n",
      "14\n",
      "13\n",
      "12\n",
      "11\n",
      "10\n",
      "9\n",
      "8\n",
      "7\n",
      "6\n",
      "5\n",
      "4\n",
      "3\n",
      "2\n",
      "1\n"
     ]
    }
   ],
   "source": [
    "number = 20\n",
    "while number >= 1:\n",
    "    print(number)\n",
    "    number -= 1  \n"
   ]
  },
  {
   "cell_type": "markdown",
   "id": "35ecef62-4d56-4a87-8d19-11a02a4ee5a9",
   "metadata": {},
   "source": [
    "3. Write a program to print even numbers from 1 to 10.   "
   ]
  },
  {
   "cell_type": "code",
   "execution_count": 4,
   "id": "048c1af3-77e0-429a-827b-e64734dc2ff4",
   "metadata": {},
   "outputs": [
    {
     "name": "stdout",
     "output_type": "stream",
     "text": [
      "2\n",
      "4\n",
      "6\n",
      "8\n",
      "10\n"
     ]
    }
   ],
   "source": [
    "for number in range(1, 11):\n",
    "    if number % 2 == 0:\n",
    "        print(number)"
   ]
  },
  {
   "cell_type": "markdown",
   "id": "e39f55c1-4a87-4267-8d1f-c90c427984bf",
   "metadata": {},
   "source": [
    "4. Write a program that prompts the user to enter a number n and prints all the \n",
    "numbers from 1 to n.   "
   ]
  },
  {
   "cell_type": "code",
   "execution_count": 5,
   "id": "5a8b7280-d6b1-431a-9cb7-9bb04ed95f76",
   "metadata": {},
   "outputs": [
    {
     "name": "stdin",
     "output_type": "stream",
     "text": [
      "Enter a number:  2\n"
     ]
    },
    {
     "name": "stdout",
     "output_type": "stream",
     "text": [
      "1\n",
      "2\n"
     ]
    }
   ],
   "source": [
    "n = int(input(\"Enter a number: \"))\n",
    "for number in range(1, n + 1):\n",
    "    print(number)"
   ]
  },
  {
   "cell_type": "markdown",
   "id": "a9390217-fd6b-43f7-81f9-0b9249657a44",
   "metadata": {},
   "source": [
    "5. Write a program that prompts the user to enter a number n, and then prints all the \n",
    "odd numbers between 1 and n.  "
   ]
  },
  {
   "cell_type": "code",
   "execution_count": 6,
   "id": "745aaee4-38d7-44e9-b68f-9db012289881",
   "metadata": {},
   "outputs": [
    {
     "name": "stdin",
     "output_type": "stream",
     "text": [
      "Enter a number:  3\n"
     ]
    },
    {
     "name": "stdout",
     "output_type": "stream",
     "text": [
      "1\n",
      "3\n"
     ]
    }
   ],
   "source": [
    "n = int(input(\"Enter a number: \"))\n",
    "for number in range(1, n + 1):\n",
    "    if number % 2 != 0:\n",
    "        print(number)"
   ]
  },
  {
   "cell_type": "markdown",
   "id": "f8c166e6-bb21-473f-99da-4d04308367d3",
   "metadata": {},
   "source": [
    "6. Write a program that prints 'Happy Birthday!' five times on screen. "
   ]
  },
  {
   "cell_type": "code",
   "execution_count": 7,
   "id": "0f0abc83-1314-44c8-9669-c4a262be972e",
   "metadata": {},
   "outputs": [
    {
     "name": "stdout",
     "output_type": "stream",
     "text": [
      "Happy Birthday!\n",
      "Happy Birthday!\n",
      "Happy Birthday!\n",
      "Happy Birthday!\n",
      "Happy Birthday!\n"
     ]
    }
   ],
   "source": [
    "for _ in range(5):\n",
    "    print('Happy Birthday!')\n"
   ]
  },
  {
   "cell_type": "markdown",
   "id": "e4e551b0-0f97-401f-9dcd-891166c66303",
   "metadata": {},
   "source": [
    "7. Write a program that takes a number n as input from the user and generates the first n terms of the series formed by squaring the natural numbers. \n",
    "Sample output <br>\n",
    "Enter a number: 6 <br>\n",
    "The first 6 terms of the series are: <br>\n",
    "1 4 9 16 25 36 <br>"
   ]
  },
  {
   "cell_type": "code",
   "execution_count": 8,
   "id": "fb3d9a87-6fa9-431b-89b1-980ea764c61e",
   "metadata": {},
   "outputs": [
    {
     "name": "stdin",
     "output_type": "stream",
     "text": [
      "Enter a number:  2\n"
     ]
    },
    {
     "name": "stdout",
     "output_type": "stream",
     "text": [
      "The first 2 terms of the series are:\n",
      "1 4 \n"
     ]
    }
   ],
   "source": [
    "n = int(input(\"Enter a number: \"))\n",
    "\n",
    "print(f\"The first {n} terms of the series are:\")\n",
    "for i in range(1, n + 1):\n",
    "    print(i**2, end=' ')\n",
    "print()  "
   ]
  },
  {
   "cell_type": "markdown",
   "id": "197632ec-f47c-4262-acb6-8209f67d13e6",
   "metadata": {},
   "source": [
    "8. Write a program that prompts the user to input a number and prints its multiplication table.  "
   ]
  },
  {
   "cell_type": "code",
   "execution_count": 9,
   "id": "e1ede3cc-57d4-49c3-baff-0b73120f0e34",
   "metadata": {},
   "outputs": [
    {
     "name": "stdin",
     "output_type": "stream",
     "text": [
      "Enter a number:  5\n"
     ]
    },
    {
     "name": "stdout",
     "output_type": "stream",
     "text": [
      "Multiplication table for 5 is:\n",
      "5 x 1 = 5\n",
      "5 x 2 = 10\n",
      "5 x 3 = 15\n",
      "5 x 4 = 20\n",
      "5 x 5 = 25\n",
      "5 x 6 = 30\n",
      "5 x 7 = 35\n",
      "5 x 8 = 40\n",
      "5 x 9 = 45\n",
      "5 x 10 = 50\n"
     ]
    }
   ],
   "source": [
    "number = int(input(\"Enter a number: \"))\n",
    "\n",
    "print(f\"Multiplication table for {number} is:\")\n",
    "for i in range(1, 11):  # 1 to 10\n",
    "    print(f\"{number} x {i} = {number * i}\")\n"
   ]
  },
  {
   "cell_type": "markdown",
   "id": "cded345e-c63d-4138-9db5-2d5a68299658",
   "metadata": {},
   "source": [
    "9. Write a Python program to print the first 8 terms of an arithmetic progression starting  with 3 and having a common difference of 4. \n",
    "<br>The program should output the following sequence: <br>\n",
    "3 7 11 15 19 23 27 31  <br>"
   ]
  },
  {
   "cell_type": "code",
   "execution_count": 10,
   "id": "ea74979c-bbc6-440e-8d1c-c96c75f83ab8",
   "metadata": {},
   "outputs": [
    {
     "name": "stdout",
     "output_type": "stream",
     "text": [
      "The first 8 terms of the arithmetic progression are:\n",
      "3 7 11 15 19 23 27 31 \n"
     ]
    }
   ],
   "source": [
    "first_term = 3\n",
    "common_difference = 4\n",
    "\n",
    "print(\"The first 8 terms of the arithmetic progression are:\")\n",
    "for i in range(8):\n",
    "    term = first_term + i * common_difference\n",
    "    print(term, end=' ')\n",
    "print()  \n"
   ]
  },
  {
   "cell_type": "markdown",
   "id": "d6053c26-b7b8-4269-9fed-d0dccbb92ec1",
   "metadata": {},
   "source": [
    "10. Write a Python program to print the first 6 terms of a geometric sequence starting  with 2 and having a common ratio of 3. \n",
    "<br>The program should output the following sequence:<br> \n",
    "2 6 18 54 162 486  <br>"
   ]
  },
  {
   "cell_type": "code",
   "execution_count": 12,
   "id": "34578937-539a-41f5-84be-3bb053bbaf74",
   "metadata": {},
   "outputs": [
    {
     "name": "stdout",
     "output_type": "stream",
     "text": [
      "The first 6 terms of the geometric sequence are:\n",
      "2 6 18 54 162 486 \n"
     ]
    }
   ],
   "source": [
    "first_term = 2\n",
    "common_ratio = 3\n",
    "\n",
    "print(\"The first 6 terms of the geometric sequence are:\")\n",
    "term = first_term\n",
    "for _ in range(6):\n",
    "    print(term, end=' ')\n",
    "    term *= common_ratio  \n",
    "print()  "
   ]
  },
  {
   "cell_type": "markdown",
   "id": "42fa5ca4-fc63-4c0e-80e1-dddf37f3bb7e",
   "metadata": {},
   "source": [
    "11. Write a program that asks the user for a positive integer value. The program should \n",
    "calculate the sum of all the integers from 1 up to the number entered. For example, if \n",
    "the user enters 20, the loop will find the sum of 1, 2, 3, 4, ... 20.   "
   ]
  },
  {
   "cell_type": "code",
   "execution_count": 13,
   "id": "d2826361-774a-442f-b441-90403c90a05d",
   "metadata": {},
   "outputs": [
    {
     "name": "stdin",
     "output_type": "stream",
     "text": [
      "Enter a positive integer:  3\n"
     ]
    },
    {
     "name": "stdout",
     "output_type": "stream",
     "text": [
      "The sum of all integers from 1 to 3 is: 6\n"
     ]
    }
   ],
   "source": [
    "n = int(input(\"Enter a positive integer: \"))\n",
    "\n",
    "total_sum = 0\n",
    "\n",
    "for number in range(1, n + 1):\n",
    "    total_sum += number\n",
    "\n",
    "print(f\"The sum of all integers from 1 to {n} is: {total_sum}\")\n"
   ]
  },
  {
   "cell_type": "markdown",
   "id": "cf213712-ab2a-456a-b552-981fa60be533",
   "metadata": {},
   "source": [
    "12. write a program that takes a positive integer N as input and calculates the sum of \r\n",
    "the reciprocals of all numbers from 1 up to N. The program should display the final sum."
   ]
  },
  {
   "cell_type": "code",
   "execution_count": 14,
   "id": "970a27a6-6e6f-4609-8f05-a645b11a9920",
   "metadata": {},
   "outputs": [
    {
     "name": "stdin",
     "output_type": "stream",
     "text": [
      "Enter a positive integer:  -4\n"
     ]
    },
    {
     "name": "stdout",
     "output_type": "stream",
     "text": [
      "The sum of reciprocals from 1 to -4 is: 0.00\n"
     ]
    }
   ],
   "source": [
    "N = int(input(\"Enter a positive integer: \"))\n",
    "\n",
    "sum_of_reciprocals = 0\n",
    "\n",
    "for number in range(1, N + 1):\n",
    "    sum_of_reciprocals += 1 / number\n",
    "\n",
    "print(f\"The sum of reciprocals from 1 to {N} is: {sum_of_reciprocals:.2f}\")\n"
   ]
  },
  {
   "cell_type": "markdown",
   "id": "5957820c-d74c-4453-a65f-70b89a05e198",
   "metadata": {},
   "source": [
    "13. Write a program that prompts the user to enter a number and repeats this process 5  times. The program should accumulate the numbers entered and then display the final \n",
    "running total. <br>\n",
    "Sample Output: <br>\n",
    "Enter a number: 10 <br>\n",
    "Enter a number: 15 <br>\n",
    "Enter a number: 35 <br>\n",
    "Enter a number: 40 <br>\n",
    "Enter a number: 50 <br>\n",
    "The final running total is: 150 <br> "
   ]
  },
  {
   "cell_type": "code",
   "execution_count": 16,
   "id": "7c047077-809b-43be-a64f-77487756bcbc",
   "metadata": {},
   "outputs": [
    {
     "name": "stdin",
     "output_type": "stream",
     "text": [
      "Enter a number:  57\n",
      "Enter a number:  40\n",
      "Enter a number:  45\n",
      "Enter a number:  56\n",
      "Enter a number:  45\n"
     ]
    },
    {
     "name": "stdout",
     "output_type": "stream",
     "text": [
      "The final running total is: 243\n"
     ]
    }
   ],
   "source": [
    "running_total = 0\n",
    "\n",
    "for _ in range(5):\n",
    "    number = int(input(\"Enter a number: \"))\n",
    "    running_total += number  \n",
    "\n",
    "print(f\"The final running total is: {running_total}\")\n"
   ]
  },
  {
   "cell_type": "markdown",
   "id": "4d87b6f4-cf67-4aa4-a3e6-a0d2c1d58222",
   "metadata": {},
   "source": [
    "14. Write a program that prompts the user to enter a positive integer and calculates its \n",
    "factorial. The factorial of a positive integer 'n' is denoted as 'n!' and is calculated by \n",
    "multiplying all the integers from 1 to 'n' together. For example, the factorial of 5 \n",
    "(denoted as 5!) is calculated as 1 x 2 x 3 x 4 x 5. <br>\n",
    "\n",
    "The program should display the factorial value if the input is a positive number, or \n",
    "display a message stating that the factorial does not exist for negative numbers. \n",
    "Additionally, for an input of zero, the program should output that the factorial of 0 is 1. "
   ]
  },
  {
   "cell_type": "code",
   "execution_count": 17,
   "id": "38ae4204-c880-434f-ab26-798415e5727d",
   "metadata": {},
   "outputs": [
    {
     "name": "stdin",
     "output_type": "stream",
     "text": [
      "Enter a positive integer:  45\n"
     ]
    },
    {
     "name": "stdout",
     "output_type": "stream",
     "text": [
      "The factorial of 45 is: 119622220865480194561963161495657715064383733760000000000\n"
     ]
    }
   ],
   "source": [
    "n = int(input(\"Enter a positive integer: \"))\n",
    "\n",
    "if n < 0:\n",
    "    print(\"Factorial does not exist for negative numbers.\")\n",
    "elif n == 0:\n",
    "    print(\"The factorial of 0 is 1.\")\n",
    "else:\n",
    "    factorial = 1\n",
    "\n",
    "    for i in range(1, n + 1):\n",
    "        factorial *= i\n",
    "   \n",
    "    print(f\"The factorial of {n} is: {factorial}\")\n"
   ]
  },
  {
   "cell_type": "markdown",
   "id": "85965aa8-1fcd-4831-acb1-02309eb2ce9d",
   "metadata": {},
   "source": [
    "15. Write a Python program that prompts the user to enter a base number and an \n",
    "exponent, and then calculates the power of the base to the exponent. The program \n",
    "should not use the exponentiation operator (**) or the math.pow() function. The \n",
    "program should handle both positive and negative exponents.  "
   ]
  }
 ],
 "metadata": {
  "kernelspec": {
   "display_name": "Python 3 (ipykernel)",
   "language": "python",
   "name": "python3"
  },
  "language_info": {
   "codemirror_mode": {
    "name": "ipython",
    "version": 3
   },
   "file_extension": ".py",
   "mimetype": "text/x-python",
   "name": "python",
   "nbconvert_exporter": "python",
   "pygments_lexer": "ipython3",
   "version": "3.11.7"
  }
 },
 "nbformat": 4,
 "nbformat_minor": 5
}
