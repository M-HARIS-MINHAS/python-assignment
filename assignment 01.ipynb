{
 "cells": [
  {
   "cell_type": "markdown",
   "id": "42c20c50-b6a9-4f6e-8535-557fe6990d76",
   "metadata": {},
   "source": [
    "<h2>Part -1 Python Basics (Variables)</h2>"
   ]
  },
  {
   "cell_type": "markdown",
   "id": "1292273e-9577-44f7-8012-a4f3b66d887c",
   "metadata": {},
   "source": [
    "1.Print Your Name with your Father name and Date of birth using suitable escape sequence charactor"
   ]
  },
  {
   "cell_type": "markdown",
   "id": "52286bb6-991e-4433-841e-0051b5569b89",
   "metadata": {},
   "source": [
    "print (\"Name:\\t\\tM haris\\nFather Name:\\t:DilbaharHussain\\nDate of birth\\tJanuary 25, 2008\")"
   ]
  },
  {
   "cell_type": "markdown",
   "id": "8443232b-1b8b-4a40-afa9-f26e1e109c38",
   "metadata": {},
   "source": [
    "2.Write your small bio using variables and print it using print function"
   ]
  },
  {
   "cell_type": "code",
   "execution_count": 20,
   "id": "8d6d7ab0-4014-46f7-8856-f4eb7d55fe49",
   "metadata": {},
   "outputs": [
    {
     "name": "stdout",
     "output_type": "stream",
     "text": [
      "Name:M haris\n",
      "age:17\n",
      "is_student:True\n"
     ]
    }
   ],
   "source": [
    "myName=\"M haris\"\n",
    "age=17\n",
    "is_student=True\n",
    "print(f\"Name:{myName}\")\n",
    "print(f\"age:{age}\")\n",
    "print(f\"is_student:{is_student}\")"
   ]
  },
  {
   "cell_type": "markdown",
   "id": "8fc1bd1f-c332-493a-b648-19c5ec7c862e",
   "metadata": {},
   "source": [
    "3.Write a program in which use all the operators we can use in Python"
   ]
  },
  {
   "cell_type": "markdown",
   "id": "8fe0ec81-5443-4773-84a6-59e32cb314ff",
   "metadata": {},
   "source": [
    "<h4>Arithmetic operators</h4>"
   ]
  },
  {
   "cell_type": "code",
   "execution_count": 32,
   "id": "eef46c7b-be51-4fbc-9b73-60e1eae2a04d",
   "metadata": {},
   "outputs": [
    {
     "name": "stdout",
     "output_type": "stream",
     "text": [
      "15\n",
      "5\n",
      "50\n",
      "2.0\n",
      "100000\n",
      "0\n",
      "3\n",
      "2\n"
     ]
    }
   ],
   "source": [
    "num1=10\n",
    "num2=5\n",
    "print(num1+num2)#addition\n",
    "print(num1-num2)#subtraction\n",
    "print(num1*num2)#Multiplication\n",
    "print(num1/num2)#Division\n",
    "print(num1**num2)#Exponentiation\n",
    "print(num1%num2)#Modulus\n",
    "print(10//3)#Floor Division\n",
    "import math\n",
    "a=6/4\n",
    "print(math.ceil(a))\n",
    "\n",
    "\n"
   ]
  },
  {
   "cell_type": "markdown",
   "id": "60410a24-3627-4527-9c86-216128d66de1",
   "metadata": {},
   "source": [
    "<h4>Comparsion operators</h4>"
   ]
  },
  {
   "cell_type": "code",
   "execution_count": 41,
   "id": "3ae962ca-51ad-475e-80f7-07c39a23ee55",
   "metadata": {},
   "outputs": [
    {
     "name": "stdout",
     "output_type": "stream",
     "text": [
      "False\n",
      "True\n",
      "True\n",
      "True\n",
      "True\n",
      "True\n",
      "True\n"
     ]
    }
   ],
   "source": [
    "num1=8\n",
    "num2=4\n",
    "print(num1==num2)#Equal to\n",
    "print(num2== num2)#Equal to\n",
    "print(num1 != num2)#Not equal\n",
    "print(num1 > num2 )#greater than\n",
    "print(num1 >= num1)#greater than or equal to\n",
    "print(num2 < num1)#lesser than\n",
    "print(num2 <= num2)#lesser than or equal to"
   ]
  },
  {
   "cell_type": "markdown",
   "id": "4a983017-8e05-4cdb-a500-490b67e562b5",
   "metadata": {},
   "source": [
    "<h4>logical operators</h4>"
   ]
  },
  {
   "cell_type": "code",
   "execution_count": 53,
   "id": "8097813e-bf4f-4e26-937a-39150a9e7743",
   "metadata": {},
   "outputs": [
    {
     "name": "stdout",
     "output_type": "stream",
     "text": [
      "True\n",
      "False\n",
      "True\n",
      "True\n",
      "False\n",
      "False\n",
      "True\n"
     ]
    }
   ],
   "source": [
    "a =True\n",
    "b = True\n",
    "print(a and b)# And operator\n",
    "print(a and False)# And operator\n",
    "\n",
    "c =True\n",
    "d = True\n",
    "print(a or b)# or operator\n",
    "print(a or False)# or operator\n",
    "print(False or False)# or operator\n",
    "\n",
    "e=True\n",
    "f=False\n",
    "print(not e)\n",
    "print(not f)   "
   ]
  },
  {
   "cell_type": "markdown",
   "id": "5bb65cd2-7eca-42bf-ad0f-c8c713c21cde",
   "metadata": {},
   "source": [
    "4.Completes the following steps of small task:<br>\r",
    "part 1:\n",
    "Mention Marks of English , Islamiat and Maths out of 100 in 3 different variable<br>\n",
    "part:2Mention Variable of Total Marks and assign 300 to it<br>\n",
    "part 3:Calculate Percentages"
   ]
  },
  {
   "cell_type": "code",
   "execution_count": 58,
   "id": "d7526672-d658-4a48-92da-a99097d1bb08",
   "metadata": {},
   "outputs": [
    {
     "name": "stdout",
     "output_type": "stream",
     "text": [
      "86.66666666666667\n"
     ]
    }
   ],
   "source": [
    "English =75\n",
    "Islamiat =90\n",
    "Maths =95\n",
    "Total_Marks =300\n",
    "Obtain_Marks = English + Islamiat + Maths\n",
    "percentage = Obtain_Marks/Total_Marks *100\n",
    "print(percentage)"
   ]
  },
  {
   "cell_type": "markdown",
   "id": "1bcabd25-dbcb-45b8-bed4-841544fdd94a",
   "metadata": {},
   "source": [
    "<h2>Part -2 Python Basics (Conditional Statements)</h2>"
   ]
  },
  {
   "cell_type": "markdown",
   "id": "5de1fe36-0efb-4f05-91ce-4287fba9267a",
   "metadata": {},
   "source": [
    "1.A company decided to give bonus of 5% to employee if his/her year of service is more than 5 years. Ask user for their salary and year of service and print the net bonus amount."
   ]
  },
  {
   "cell_type": "code",
   "execution_count": 63,
   "id": "95a8d945-fb56-428a-a87a-2c7f93514a1f",
   "metadata": {},
   "outputs": [
    {
     "name": "stdin",
     "output_type": "stream",
     "text": [
      "Enter your salary: 5000\n",
      "Enter your service: 6\n"
     ]
    },
    {
     "name": "stdout",
     "output_type": "stream",
     "text": [
      "your net balance amount is : 250.0\n"
     ]
    }
   ],
   "source": [
    "salary = float(input(\"Enter your salary:\"))\n",
    "service = int(input(\"Enter your service:\"))\n",
    "if service > 5 :\n",
    "    bonus =0.05 * salary\n",
    "    print(\"your net balance amount is :\",\n",
    "          bonus)\n",
    "else:\n",
    "        print(\"You are not eligible for a bonus.\")"
   ]
  },
  {
   "cell_type": "markdown",
   "id": "eecac5ce-acf9-4087-9383-8a04ca8535fc",
   "metadata": {},
   "source": [
    "2.Write a program to check whether a person is eligible for voting or not. (accept age from user) if age is greater than 17 eligible otherwise not eligible"
   ]
  },
  {
   "cell_type": "code",
   "execution_count": 65,
   "id": "c70a46d8-6f66-4047-8a92-10f2beda0399",
   "metadata": {},
   "outputs": [
    {
     "name": "stdin",
     "output_type": "stream",
     "text": [
      "Enter your age: 18\n"
     ]
    },
    {
     "name": "stdout",
     "output_type": "stream",
     "text": [
      "you are eligible for voting\n"
     ]
    }
   ],
   "source": [
    "age=int(input(\"Enter your age:\"))\n",
    "if age>17:\n",
    "    print(\"you are eligible for voting\")\n",
    "else:\n",
    "      print(\"you are not eligible for voting\")"
   ]
  },
  {
   "cell_type": "markdown",
   "id": "83074f28-a558-405e-910b-c84cccac3e30",
   "metadata": {},
   "source": []
  },
  {
   "cell_type": "markdown",
   "id": "6481bdb3-918f-48e6-b536-b6a5966ec2c3",
   "metadata": {},
   "source": [
    "number =int(input(\"Enter the number:\"))\n",
    "if number%2 ==0 :\n",
    "    print(f\"the {number} is even\")\n",
    "else:\n",
    "     print(f\"the {number} is odd\")"
   ]
  },
  {
   "cell_type": "markdown",
   "id": "2cbd5f32-d1eb-4098-8e73-5e0a26b4afe8",
   "metadata": {},
   "source": [
    "4.Write a program to check whether a number is divisible by 7 or not. Show Answer"
   ]
  },
  {
   "cell_type": "code",
   "execution_count": 71,
   "id": "eb16f9a6-243b-4d6b-9018-e2dd311fcc20",
   "metadata": {},
   "outputs": [
    {
     "name": "stdin",
     "output_type": "stream",
     "text": [
      "Enter the number: 6\n"
     ]
    },
    {
     "name": "stdout",
     "output_type": "stream",
     "text": [
      "the number is not divisible by 7\n"
     ]
    }
   ],
   "source": [
    "number =int(input(\"Enter the number:\"))\n",
    "if number % 7 == 0:\n",
    "    print(\"the number is divisible by 7\")\n",
    "else:\n",
    "     print(\"the number is not divisible by 7\")"
   ]
  },
  {
   "cell_type": "markdown",
   "id": "85f424d2-1f40-43c5-8d0f-734b9f298d22",
   "metadata": {},
   "source": [
    "5.Write a program to display \"Hello\" if a number entered by user is a multiple of five , otherwise print \"Bye\"."
   ]
  },
  {
   "cell_type": "code",
   "execution_count": 83,
   "id": "6c6c58c1-9420-4d88-be6d-8abc30fea770",
   "metadata": {},
   "outputs": [
    {
     "name": "stdin",
     "output_type": "stream",
     "text": [
      "Enter the number: 10\n"
     ]
    },
    {
     "name": "stdout",
     "output_type": "stream",
     "text": [
      "Hello\n"
     ]
    }
   ],
   "source": [
    "number =int(input(\"Enter the number:\"))\n",
    "if number % 5 ==0:\n",
    "    print(\"Hello\")\n",
    "else:\n",
    "    print(\"Bye\")"
   ]
  },
  {
   "cell_type": "markdown",
   "id": "7d1c4ee3-5a42-481c-8dc9-3fdd1788d117",
   "metadata": {},
   "source": [
    "6.Write a program to display the last digit of a number."
   ]
  },
  {
   "cell_type": "code",
   "execution_count": 82,
   "id": "28a29bcf-e78e-45be-89e5-8df0a18d8c51",
   "metadata": {},
   "outputs": [
    {
     "name": "stdin",
     "output_type": "stream",
     "text": [
      "Enter the number: 5678\n"
     ]
    },
    {
     "name": "stdout",
     "output_type": "stream",
     "text": [
      "Last digit of 5678 is: 8\n"
     ]
    }
   ],
   "source": [
    "number = int(input(\"Enter the number:\"))\n",
    "last_digit = number % 10  \n",
    "print(f\"Last digit of {number} is: {last_digit}\")\n"
   ]
  },
  {
   "cell_type": "markdown",
   "id": "11dcadfa-4e6b-414a-95e6-f0f3851a3ccb",
   "metadata": {},
   "source": [
    "7.Take values of length and breadth of a rectangle from user and print if it is square or rectangle."
   ]
  },
  {
   "cell_type": "code",
   "execution_count": 84,
   "id": "2f7364a9-50cd-40db-bd7c-7d5e8ff972e6",
   "metadata": {},
   "outputs": [
    {
     "name": "stdin",
     "output_type": "stream",
     "text": [
      "Enter the length of the rectangle:  5\n",
      "Enter the breadth of the rectangle:  5\n"
     ]
    },
    {
     "name": "stdout",
     "output_type": "stream",
     "text": [
      "it is square\n"
     ]
    }
   ],
   "source": [
    "length = float(input(\"Enter the length of the rectangle: \"))\n",
    "breadth = float(input(\"Enter the breadth of the rectangle: \"))\n",
    "if length == breadth :\n",
    "    print(\"it is square\")\n",
    "else:\n",
    "    print(\"it is rectangle\")"
   ]
  },
  {
   "cell_type": "markdown",
   "id": "f620701b-a8d0-4585-a855-520b2fed04ac",
   "metadata": {},
   "source": [
    "8.Take two int values from user and print greatest among them."
   ]
  },
  {
   "cell_type": "code",
   "execution_count": 85,
   "id": "639a7f9e-4d1f-4e8f-98cf-273e555a676d",
   "metadata": {},
   "outputs": [
    {
     "name": "stdin",
     "output_type": "stream",
     "text": [
      "Enter the first integer:  5\n",
      "Enter the second integer:  3\n"
     ]
    },
    {
     "name": "stdout",
     "output_type": "stream",
     "text": [
      "5 is greatest\n"
     ]
    }
   ],
   "source": [
    "num1 = int(input(\"Enter the first integer: \"))\n",
    "num2 = int(input(\"Enter the second integer: \"))\n",
    "if num1 > num2 :\n",
    "    print(f\"{num1} is greatest\")\n",
    "elif num2 < num1:\n",
    "     print(f\"{num2} is greatest\")\n",
    "else:\n",
    "    print(\"Both numbers are equal.\")"
   ]
  },
  {
   "cell_type": "markdown",
   "id": "df62fc3f-12be-4282-b85c-506c10f7f678",
   "metadata": {},
   "source": [
    "9.A shop will give discount of 10% if the cost of purchased quantity is more than 1000. Ask user for quantity Suppose, one unit will cost 100. Judge and print total cost for user."
   ]
  },
  {
   "cell_type": "code",
   "execution_count": 1,
   "id": "8f441679-107f-49a4-9c02-039ce41f164c",
   "metadata": {},
   "outputs": [
    {
     "name": "stdin",
     "output_type": "stream",
     "text": [
      "Enter the quantity of items you want to purchase:  7\n"
     ]
    },
    {
     "name": "stdout",
     "output_type": "stream",
     "text": [
      "The total cost for 7 items is: 700\n"
     ]
    }
   ],
   "source": [
    "quantity = int(input(\"Enter the quantity of items you want to purchase: \"))\n",
    "cost_per_unit = 100\n",
    "total_cost = quantity * cost_per_unit\n",
    "if total_cost > 1000:\n",
    "    discount = total_cost * 0.10\n",
    "    total_cost -= discount\n",
    "print(f\"The total cost for {quantity} items is: {total_cost}\")"
   ]
  },
  {
   "cell_type": "markdown",
   "id": "170346fb-fea5-4a72-b2d3-28edd4ddc5b9",
   "metadata": {},
   "source": [
    "10.A school has following rules for grading system:\r\n",
    "a. Below 25 - F\r\n",
    "\r\n",
    "b. 25 to 45 - E\r\n",
    "\r\n",
    "c. 45 to 50 - D\r\n",
    "\r\n",
    "d. 50 to 60 - C\r\n",
    "\r\n",
    "e. 60 to 80 - B\r\n",
    "\r\n",
    "f. Above 80 - A\r\n",
    "\r\n",
    "Ask user to enter marks and print the corresponding grade."
   ]
  },
  {
   "cell_type": "code",
   "execution_count": 2,
   "id": "f3f1bc81-97d3-4a56-b915-4e9956817fb8",
   "metadata": {},
   "outputs": [
    {
     "name": "stdin",
     "output_type": "stream",
     "text": [
      "Enter your marks:  56\n"
     ]
    },
    {
     "name": "stdout",
     "output_type": "stream",
     "text": [
      "Grade B\n"
     ]
    }
   ],
   "source": [
    "marks = int(input(\"Enter your marks: \"))\n",
    "if marks <= 25:\n",
    "    print(\"Grade E\")\n",
    "elif marks <= 45:\n",
    "     print(\"Grade D\")\n",
    "elif marks <= 50:\n",
    "     print(\"Grade C\") \n",
    "elif marks <= 60:\n",
    "     print(\"Grade B\")\n",
    "elif marks <= 80:\n",
    "     print(\"Grade A\")\n",
    "else:\n",
    "    print(\"you should fail\")"
   ]
  },
  {
   "cell_type": "markdown",
   "id": "42b505d6-67c4-41ad-b458-38749dd54af1",
   "metadata": {},
   "source": [
    "11.A student will not be allowed to sit in exam if his/her attendence is less than 75%.\r\n",
    "\r\n",
    "Take following input from user\r\n",
    "\r\n",
    "Number of classes held\r\n",
    "\r\n",
    "Number of classes attended.\r\n",
    "\r\n",
    "And print\r\n",
    "\r\n",
    "percentage of class attended\r\n",
    "\r\n",
    "Is student is allowed to sit in exam or not."
   ]
  },
  {
   "cell_type": "code",
   "execution_count": 7,
   "id": "579c5cff-a716-4993-aef7-d91318c7ba56",
   "metadata": {},
   "outputs": [
    {
     "name": "stdin",
     "output_type": "stream",
     "text": [
      "Enter the attedence : 76\n"
     ]
    },
    {
     "name": "stdout",
     "output_type": "stream",
     "text": [
      "you are sit in the exam \n"
     ]
    }
   ],
   "source": [
    "classesattended = int(input(\"Enter the attedence :\"))\n",
    "classesheld = 100\n",
    "totalclass = classesattended/classesheld * 100\n",
    "if totalclass >= 75 :\n",
    "    print(\"you are sit in the exam \")\n",
    "else:\n",
    "    print(\"you are not sit in the exam \")"
   ]
  },
  {
   "cell_type": "markdown",
   "id": "dc9975cf-d97e-4825-a3e5-a25ac2e36236",
   "metadata": {},
   "source": [
    "12.Modify the above question to allow student to sit if he/she has medical cause. Ask user if he/she has medical cause or not ( 'Y' or 'N' ) and print accordingly."
   ]
  },
  {
   "cell_type": "code",
   "execution_count": null,
   "id": "8a56c0fd-25af-429a-b604-d72c686d55f2",
   "metadata": {},
   "outputs": [],
   "source": [
    "medicalcause = input(\"Do you have a medical cause? (Y/N): \")\n",
    "if medicalcause == 'Y':\n",
    "    print(\"You are allowed to sit for the exam due to medical cause.\")\n",
    "else:\n",
    "    print(\"you are not sit in the exam\")"
   ]
  },
  {
   "cell_type": "markdown",
   "id": "7b5bd4e1-13fa-4867-875c-f9c29094ffb5",
   "metadata": {},
   "source": [
    "13.Write a program to check if a year is leap year or not.\n",
    "If a year is divisible by 4 then it is leap year but if the year is century year like 2000, 1900, 2100 then it must be divisible by 400."
   ]
  },
  {
   "cell_type": "code",
   "execution_count": 15,
   "id": "91dd69ec-73e5-40d6-80c9-699ea7c23ab1",
   "metadata": {},
   "outputs": [
    {
     "name": "stdin",
     "output_type": "stream",
     "text": [
      "Enter a year:  2002\n"
     ]
    },
    {
     "name": "stdout",
     "output_type": "stream",
     "text": [
      "2002 is not a leap year.\n"
     ]
    }
   ],
   "source": [
    "year = int(input(\"Enter a year: \"))\n",
    "if (year % 4 == 0):\n",
    "    if (year % 100 == 0):\n",
    "        if (year % 400 == 0):\n",
    "            print(f\"{year} is a leap year.\")\n",
    "        else:\n",
    "            print(f\"{year} is not a leap year.\")\n",
    "    else:\n",
    "        print(f\"{year} is a leap year.\")\n",
    "else:\n",
    "    print(f\"{year} is not a leap year.\")\n"
   ]
  },
  {
   "cell_type": "markdown",
   "id": "981b1658-298e-476e-8522-b22624139e4d",
   "metadata": {},
   "source": [
    "14.Ask user to enter age, gender ( M or F ), marital status ( Y or N ) and then using following rules print their place of service.<br>\r\n",
    "if employee is female, then she will work only in urban areas.\r\n",
    "\r\n",
    "if employee is a male and age is in between 20 to 40 then he may work in anywhere\r\n",
    "\r\n",
    "if employee is male and age is in between 40 t0 60 then he will work in urban areas only.\r\n",
    "\r\n",
    "And any other input of age should print \"ERROR\"."
   ]
  },
  {
   "cell_type": "code",
   "execution_count": null,
   "id": "56514adf-c328-4b28-8dfd-aa426a197d03",
   "metadata": {},
   "outputs": [],
   "source": [
    "\n",
    "age = int(input(\"Enter the age: \"))\n",
    "gender = input(\"Enter the gender (M/F): \")\n",
    "marital_status = input(\"Enter the marital status (Y/N): \")\n",
    "if gender == 'F':\n",
    "    if marital_status == 'Y' or marital_status == 'N':\n",
    "        print(\"She will work only in urban areas.\")\n",
    "elif gender == 'M':\n",
    "    if age >= 40 and age < 60:\n",
    "        print(\"He may work anywhere.\")\n",
    "    elif age >= 60:\n",
    "        print(\"He will work in urban areas only.\")\n",
    "    else:\n",
    "        print(\"He may work anywhere.\")\n",
    "else:\n",
    "    print(\"Invalid gender input.\")\n"
   ]
  },
  {
   "cell_type": "markdown",
   "id": "99039070-6565-4bab-8afb-d711bb761049",
   "metadata": {},
   "source": [
    "15.Write a program to calculate the electricity bill (accept number of unit from user) according to the following criteria : Unit Price\n",
    "uptp 100 units no charge Next 200 units Rs 5 per unit After 200 units Rs 10 per unit (For example if input unit is 350 than total bill amount is Rs.3500 (For example if input unit is 97 than total bill amount is Rs.0 (For example if input unit is 150 than total bill amount is Rs.750"
   ]
  },
  {
   "cell_type": "code",
   "execution_count": null,
   "id": "8e9dffac-8c92-47a3-90c4-609bea75d786",
   "metadata": {},
   "outputs": [],
   "source": [
    "def calculate_electricity_bill(units):\n",
    "    if units <= 100:\n",
    "        bill = 0\n",
    "    elif units <= 300:\n",
    "        bill = (units - 100) * 5\n",
    "    else:\n",
    "        bill = (200 * 5) + ((units - 300) * 10)\n",
    "    return bill\n",
    "units = int(input(\"Enter the number of units: \"))\n",
    "bill_amount = calculate_electricity_bill(units)\n",
    "print(f\"The total electricity bill for {units} units is Rs.{bill_amount}\")\n"
   ]
  },
  {
   "cell_type": "markdown",
   "id": "f161f83b-ff2b-4e3d-acaa-afa0675dca89",
   "metadata": {},
   "source": [
    "16.Take input of age of 3 people by user and determine oldest and youngest among them."
   ]
  },
  {
   "cell_type": "code",
   "execution_count": 8,
   "id": "55313bf4-75ef-4674-99f6-62a902d78cf0",
   "metadata": {},
   "outputs": [
    {
     "name": "stdin",
     "output_type": "stream",
     "text": [
      "Enter the age of the first person:  76\n",
      "Enter the age of the second person:  52\n",
      "Enter the age of the third person:  27\n"
     ]
    },
    {
     "name": "stdout",
     "output_type": "stream",
     "text": [
      "The greatest age is: 76\n",
      "The smallest age is: 27\n"
     ]
    }
   ],
   "source": [
    "age1 = int(input(\"Enter the age of the first person: \"))\n",
    "age2 = int(input(\"Enter the age of the second person: \"))\n",
    "age3 = int(input(\"Enter the age of the third person: \"))\n",
    "maxage = max(age1, age2, age3)\n",
    "minage = min(age1, age2, age3)\n",
    "print(\"The greatest age is:\", maxage)\n",
    "print(\"The smallest age is:\", minage)\n"
   ]
  },
  {
   "cell_type": "code",
   "execution_count": 9,
   "id": "33ce8731-0344-4165-9d20-672faddfce62",
   "metadata": {},
   "outputs": [
    {
     "name": "stdin",
     "output_type": "stream",
     "text": [
      "Enter your marks:  78\n"
     ]
    },
    {
     "name": "stdout",
     "output_type": "stream",
     "text": [
      "Grade E\n"
     ]
    }
   ],
   "source": [
    "marks = int(input(\"Enter your marks: \"))\n",
    "if marks >= 25:\n",
    "    print(\"Grade E\")\n",
    "elif marks >= 45 :\n",
    "     print(\"Grade D\")\n",
    "elif marks >= 50 :\n",
    "     print(\"Grade C\") \n",
    "elif marks >= 60 :\n",
    "     print(\"Grade B\")\n",
    "elif marks >= 70 \n",
    "     print(\"Grade A\")\n",
    "else:\n",
    "    print(\"you should fail\")"
   ]
  },
  {
   "cell_type": "code",
   "execution_count": 15,
   "id": "6f653b68-7cc7-4a7e-adfa-104b6442e95b",
   "metadata": {},
   "outputs": [
    {
     "name": "stdin",
     "output_type": "stream",
     "text": [
      "Enter your marks:  45\n"
     ]
    },
    {
     "name": "stdout",
     "output_type": "stream",
     "text": [
      "Grade D\n"
     ]
    }
   ],
   "source": [
    "marks = int(input(\"Enter your marks: \"))\n",
    "if marks >= 70:\n",
    "     print(\"Grade A\")\n",
    "elif marks >= 60 :\n",
    "     print(\"Grade B\")\n",
    "elif marks >= 50 :\n",
    "     print(\"Grade C\")\n",
    "elif marks >= 45 :\n",
    "     print(\"Grade D\")\n",
    "elif marks >= 25:\n",
    "    print(\"Grade E\")\n",
    "else:\n",
    "    print(\"you should fail\")"
   ]
  },
  {
   "cell_type": "code",
   "execution_count": null,
   "id": "6d628080-1021-479f-8d15-53430c36ce30",
   "metadata": {},
   "outputs": [],
   "source": []
  }
 ],
 "metadata": {
  "kernelspec": {
   "display_name": "Python 3 (ipykernel)",
   "language": "python",
   "name": "python3"
  },
  "language_info": {
   "codemirror_mode": {
    "name": "ipython",
    "version": 3
   },
   "file_extension": ".py",
   "mimetype": "text/x-python",
   "name": "python",
   "nbconvert_exporter": "python",
   "pygments_lexer": "ipython3",
   "version": "3.11.7"
  }
 },
 "nbformat": 4,
 "nbformat_minor": 5
}
