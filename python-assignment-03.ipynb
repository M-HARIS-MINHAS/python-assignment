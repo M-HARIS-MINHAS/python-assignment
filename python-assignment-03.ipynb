{
 "cells": [
  {
   "cell_type": "markdown",
   "id": "2127f368-3a27-4942-aac2-b3a198ebb8dc",
   "metadata": {},
   "source": [
    "<h1>Strings Assignments </h1>"
   ]
  },
  {
   "cell_type": "markdown",
   "id": "5cb80172-32a5-4851-a56f-53156527da19",
   "metadata": {},
   "source": [
    "1. Write a program that accepts a string from user. Your program should count and display number of\r\n",
    "vowels in that string. \r",
    ">"
   ]
  },
  {
   "cell_type": "code",
   "execution_count": 2,
   "id": "28140c3b-d30d-4d7d-9f81-0786f46b9e09",
   "metadata": {},
   "outputs": [
    {
     "name": "stdin",
     "output_type": "stream",
     "text": [
      "Enter the number: HARIS\n"
     ]
    },
    {
     "name": "stdout",
     "output_type": "stream",
     "text": [
      "Number of vowels in the string: 2\n"
     ]
    }
   ],
   "source": [
    "user_input = input(\"Enter the number:\")\n",
    "lowercase_input = user_input.lower()\n",
    "vowels =\"aeiou\"\n",
    "vowel_count = sum(lowercase_input.count(vowel) for vowel in vowels)\n",
    "\n",
    "print(\"Number of vowels in the string:\", vowel_count)"
   ]
  },
  {
   "cell_type": "markdown",
   "id": "89f3eabf-9ff3-4997-8464-666c785049f5",
   "metadata": {},
   "source": [
    "2. Write a program that reads a string from keyboard and display:\r\n",
    "* The number of uppercase letters in the string\r\n",
    "* The number of lowercase letters in the string\r\n",
    "* The number of digits in the string\r\n",
    "* The number of whitespace characters in the string \r"
   ]
  },
  {
   "cell_type": "code",
   "execution_count": 1,
   "id": "a5576883-f855-4bb7-93b3-17b95129bfeb",
   "metadata": {},
   "outputs": [
    {
     "name": "stdin",
     "output_type": "stream",
     "text": [
      "Enter a string:  My name is Haris.L am 12 year old\n"
     ]
    },
    {
     "name": "stdout",
     "output_type": "stream",
     "text": [
      "Number of uppercase letters: 3\n",
      "Number of lowercase letters: 20\n",
      "Number of digits: 2\n",
      "Number of whitespace characters: 7\n"
     ]
    }
   ],
   "source": [
    "user_input = input(\"Enter a string: \")\n",
    "\n",
    "uppercase_count = sum(1 for char in user_input if char.isupper())\n",
    "\n",
    "lowercase_count = sum(1 for char in user_input if char.islower())\n",
    "\n",
    "digit_count = sum(1 for char in user_input if char.isdigit())\n",
    "\n",
    "whitespace_count = sum(1 for char in user_input if char.isspace())\n",
    "\n",
    "print(\"Number of uppercase letters:\", uppercase_count)\n",
    "print(\"Number of lowercase letters:\", lowercase_count)\n",
    "print(\"Number of digits:\", digit_count)\n",
    "print(\"Number of whitespace characters:\", whitespace_count)\n"
   ]
  },
  {
   "cell_type": "markdown",
   "id": "b7e7e928-0705-47eb-bd30-61f8d6a3fc59",
   "metadata": {},
   "source": [
    "3. Write a Python program that accepts a string from user. Your program should create and display a \r\n",
    "new string where the first and last characters have been exchanged."
   ]
  },
  {
   "cell_type": "code",
   "execution_count": 5,
   "id": "4c7c3a94-8e67-43fe-a1f6-9c368e19cbee",
   "metadata": {},
   "outputs": [
    {
     "name": "stdin",
     "output_type": "stream",
     "text": [
      "Enter string: HELLO\n"
     ]
    },
    {
     "name": "stdout",
     "output_type": "stream",
     "text": [
      "OELLH\n"
     ]
    }
   ],
   "source": [
    "string = input('Enter string:')\n",
    "\n",
    "if len(string) < 2:\n",
    "    new_string = string\n",
    "\n",
    "else:\n",
    "    new_string = string[-1] + string[1:-1] + string[0]\n",
    "    \n",
    "print(new_string) "
   ]
  },
  {
   "cell_type": "markdown",
   "id": "8f729b28-ea90-4176-ba6d-5d025337bb8f",
   "metadata": {},
   "source": [
    "4. Write a Python program that accepts a string from user. Your program should create a new string in \n",
    "reverse of first string and display it. \n",
    "For example if the user enters the string 'EXAM' then new string would be 'MAXE'  "
   ]
  },
  {
   "cell_type": "code",
   "execution_count": 6,
   "id": "e0d54fe8-68a1-4175-97ce-f14c9a8914a1",
   "metadata": {},
   "outputs": [
    {
     "name": "stdin",
     "output_type": "stream",
     "text": [
      "Enter a string:  EXAM\n"
     ]
    },
    {
     "name": "stdout",
     "output_type": "stream",
     "text": [
      "Reversed string: MAXE\n"
     ]
    }
   ],
   "source": [
    "\n",
    "def reverse_string(string):\n",
    "    return string[::-1]\n",
    "\n",
    "user_input = input(\"Enter a string: \")\n",
    "\n",
    "reversed_string = reverse_string(user_input)\n",
    "print(\"Reversed string:\", reversed_string)\n"
   ]
  },
  {
   "cell_type": "markdown",
   "id": "97e94086-5e2c-47ac-a81c-85f669e62f6c",
   "metadata": {},
   "source": [
    "5. Write a Python program that accepts a string from user. Your program should create a new string by \n",
    "shifting one position toleft. \n",
    "For example if the user enters the string 'examination 2021' then new string would be 'xamination \n",
    "2021e' "
   ]
  },
  {
   "cell_type": "code",
   "execution_count": 7,
   "id": "12eb7a17-4890-4ee2-a7e5-fb550b3552ae",
   "metadata": {},
   "outputs": [
    {
     "name": "stdin",
     "output_type": "stream",
     "text": [
      "Enter a string:  examination 2021\n"
     ]
    },
    {
     "name": "stdout",
     "output_type": "stream",
     "text": [
      "String after shifting one position to the left: xamination 2021e\n"
     ]
    }
   ],
   "source": [
    "\n",
    "user_input = input(\"Enter a string: \")\n",
    "\n",
    "shifted_string = user_input[1:] + user_input[0]\n",
    "\n",
    "\n",
    "print(\"String after shifting one position to the left:\", shifted_string)\n"
   ]
  },
  {
   "cell_type": "markdown",
   "id": "6e33537e-b9d6-41c9-9b9d-e5750578fddd",
   "metadata": {},
   "source": [
    "6. Write a program that asks the user to input his name and print its initials. Assuming that the user \n",
    "always types first name, middle name and last name and does not include any unnecessary spaces. \n",
    "For example, if the user enters Ajay Kumar Garg the program should display A. K. G. \n",
    "Note:Don't use split() method  "
   ]
  },
  {
   "cell_type": "code",
   "execution_count": 9,
   "id": "496f60ba-3004-4d5d-b731-2ad58d955f93",
   "metadata": {},
   "outputs": [
    {
     "name": "stdin",
     "output_type": "stream",
     "text": [
      "Enter Full name:  HARIS\n"
     ]
    },
    {
     "name": "stdout",
     "output_type": "stream",
     "text": [
      "Name initials:  H.\n"
     ]
    }
   ],
   "source": [
    "full_name = input(\"Enter Full name: \")\n",
    "initials = \"\"\n",
    "for i in range(len(full_name)):\n",
    "    if i == 0  or full_name[i-1] == \" \":\n",
    "        initials += full_name[i].upper() + \". \"\n",
    "        \n",
    "print(\"Name initials: \", initials.strip()) "
   ]
  },
  {
   "cell_type": "markdown",
   "id": "2d39a15b-c5f9-417c-84b5-6cacd621454a",
   "metadata": {},
   "source": [
    "7. A palindrome is a string that reads the same backward as forward. For example, the words dad, \r\n",
    "madam and radar are all palindromes. Write a programs that determines whether the string is a \r\n",
    "palindrome. \r\n",
    "Note: do not use reverse() method   "
   ]
  },
  {
   "cell_type": "code",
   "execution_count": 11,
   "id": "1e359106-89e3-4c2d-a4d7-ab9b51bd1d23",
   "metadata": {},
   "outputs": [
    {
     "name": "stdin",
     "output_type": "stream",
     "text": [
      "Enter a string:  dad\n"
     ]
    },
    {
     "name": "stdout",
     "output_type": "stream",
     "text": [
      "The string is a palindrome.\n"
     ]
    }
   ],
   "source": [
    "\n",
    "user_input = input(\"Enter a string: \")\n",
    "\n",
    "if user_input == user_input[::-1]:\n",
    "    print(\"The string is a palindrome.\")\n",
    "else:\n",
    "    print(\"The string is not a palindrome.\")\n",
    ","
   ]
  },
  {
   "cell_type": "markdown",
   "id": "478c385c-0d40-40e3-92fe-97c85765e925",
   "metadata": {},
   "source": [
    "8. Write a program that display following output: <br>\n",
    "SHIFT <br> \n",
    "HIFTS <br>\n",
    "IFTSH <br>\n",
    "FTSHI <br>\n",
    "TSHIF <br>\n",
    "SHIFT "
   ]
  },
  {
   "cell_type": "code",
   "execution_count": 12,
   "id": "d568471a-72a5-4626-b9a7-0a5c4e2df0e1",
   "metadata": {},
   "outputs": [
    {
     "name": "stdout",
     "output_type": "stream",
     "text": [
      "SHIFT\n",
      "HIFTS\n",
      "IFTSH\n",
      "FTSHI\n",
      "TSHIF\n"
     ]
    }
   ],
   "source": [
    "string = \"SHIFT\"\n",
    "\n",
    "for i in range(len(string)):\n",
    "\n",
    "    shifted_string = string[i:] + string[:i]\n",
    "    print(shifted_string)"
   ]
  },
  {
   "cell_type": "markdown",
   "id": "983b77f7-d888-45e1-8246-157684c43caa",
   "metadata": {},
   "source": [
    "9. Write a program in python that accepts a string to setup a passwords. Your entered password must <br>\n",
    "meet the following requirements: <br>\n",
    "The password must be at least eight characters long. <br>\n",
    "It must contain at least one uppercase letter. <br>\n",
    "It must contain at least one lowercase letter. <br>\n",
    "It must contain at least one numeric digit. <br>\n",
    "Your program should should perform this validation. <br>  "
   ]
  },
  {
   "cell_type": "code",
   "execution_count": 14,
   "id": "c2a0089e-db06-4b15-8fd7-8f95261beccc",
   "metadata": {},
   "outputs": [
    {
     "name": "stdin",
     "output_type": "stream",
     "text": [
      "Enter your password:  1password\n"
     ]
    },
    {
     "name": "stdout",
     "output_type": "stream",
     "text": [
      "Password must contain at least one uppercase letter.\n"
     ]
    }
   ],
   "source": [
    "\n",
    "def validate_password(password):\n",
    "    \n",
    "    if len(password) < 8:\n",
    "        return \"Password must be at least 8 characters long.\"\n",
    "    \n",
    "    has_upper = False\n",
    "    has_lower = False\n",
    "    has_digit = False\n",
    "    \n",
    "    for char in password:\n",
    "        if char.isupper():\n",
    "            has_upper = True\n",
    "        elif char.islower():\n",
    "            has_lower = True\n",
    "        elif char.isdigit():\n",
    "            has_digit = True\n",
    "\n",
    "    if not has_upper:\n",
    "        return \"Password must contain at least one uppercase letter.\"\n",
    "    if not has_lower:\n",
    "        return \"Password must contain at least one lowercase letter.\"\n",
    "    if not has_digit:\n",
    "        return \"Password must contain at least one numeric digit.\"\n",
    "    \n",
    "    return \"Password is valid.\"\n",
    "\n",
    "\n",
    "user_password = input(\"Enter your password: \")\n",
    "\n",
    "\n",
    "validation_result = validate_password(user_password)\n",
    "print(validation_result)\n"
   ]
  },
  {
   "cell_type": "code",
   "execution_count": null,
   "id": "7fcecd82-c3d8-435e-abfd-ee10e44dbb67",
   "metadata": {},
   "outputs": [],
   "source": []
  }
 ],
 "metadata": {
  "kernelspec": {
   "display_name": "Python 3 (ipykernel)",
   "language": "python",
   "name": "python3"
  },
  "language_info": {
   "codemirror_mode": {
    "name": "ipython",
    "version": 3
   },
   "file_extension": ".py",
   "mimetype": "text/x-python",
   "name": "python",
   "nbconvert_exporter": "python",
   "pygments_lexer": "ipython3",
   "version": "3.11.7"
  }
 },
 "nbformat": 4,
 "nbformat_minor": 5
}
